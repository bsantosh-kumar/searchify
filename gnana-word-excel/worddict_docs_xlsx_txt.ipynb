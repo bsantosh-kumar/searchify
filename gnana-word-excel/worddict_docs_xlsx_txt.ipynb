{
 "cells": [
  {
   "cell_type": "code",
   "execution_count": 1,
   "metadata": {},
   "outputs": [],
   "source": [
    "from docx import Document\n",
    "import nltk\n",
    "import re\n",
    "import openpyxl\n",
    "from nltk.corpus import stopwords"
   ]
  },
  {
   "cell_type": "code",
   "execution_count": 2,
   "metadata": {},
   "outputs": [
    {
     "name": "stdout",
     "output_type": "stream",
     "text": [
      "['i', 'me', 'my', 'myself', 'we', 'our', 'ours', 'ourselves', 'you', \"you're\", \"you've\", \"you'll\", \"you'd\", 'your', 'yours', 'yourself', 'yourselves', 'he', 'him', 'his', 'himself', 'she', \"she's\", 'her', 'hers', 'herself', 'it', \"it's\", 'its', 'itself', 'they', 'them', 'their', 'theirs', 'themselves', 'what', 'which', 'who', 'whom', 'this', 'that', \"that'll\", 'these', 'those', 'am', 'is', 'are', 'was', 'were', 'be', 'been', 'being', 'have', 'has', 'had', 'having', 'do', 'does', 'did', 'doing', 'a', 'an', 'the', 'and', 'but', 'if', 'or', 'because', 'as', 'until', 'while', 'of', 'at', 'by', 'for', 'with', 'about', 'against', 'between', 'into', 'through', 'during', 'before', 'after', 'above', 'below', 'to', 'from', 'up', 'down', 'in', 'out', 'on', 'off', 'over', 'under', 'again', 'further', 'then', 'once', 'here', 'there', 'when', 'where', 'why', 'how', 'all', 'any', 'both', 'each', 'few', 'more', 'most', 'other', 'some', 'such', 'no', 'nor', 'not', 'only', 'own', 'same', 'so', 'than', 'too', 'very', 's', 't', 'can', 'will', 'just', 'don', \"don't\", 'should', \"should've\", 'now', 'd', 'll', 'm', 'o', 're', 've', 'y', 'ain', 'aren', \"aren't\", 'couldn', \"couldn't\", 'didn', \"didn't\", 'doesn', \"doesn't\", 'hadn', \"hadn't\", 'hasn', \"hasn't\", 'haven', \"haven't\", 'isn', \"isn't\", 'ma', 'mightn', \"mightn't\", 'mustn', \"mustn't\", 'needn', \"needn't\", 'shan', \"shan't\", 'shouldn', \"shouldn't\", 'wasn', \"wasn't\", 'weren', \"weren't\", 'won', \"won't\", 'wouldn', \"wouldn't\"]\n"
     ]
    }
   ],
   "source": [
    "sw_nltk = stopwords.words('english')\n",
    "print(sw_nltk)"
   ]
  },
  {
   "cell_type": "code",
   "execution_count": 3,
   "metadata": {},
   "outputs": [],
   "source": [
    "def dict_xlsx(path) :\n",
    "    wb_obj=openpyxl.load_workbook(path)\n",
    "    sheet_obj=wb_obj.active\n",
    "    m={}\n",
    "    for i in range(1,sheet_obj.max_row) :\n",
    "        for j in range(1,sheet_obj.max_column) :\n",
    "            cell_obj=sheet_obj.cell(row=i,column=j)\n",
    "            if m.get(cell_obj.value)==None :\n",
    "                m[cell_obj.value]=[]\n",
    "                m[cell_obj.value].append([i,j])\n",
    "            else :\n",
    "                m[cell_obj.value].append([i,j])\n",
    "    return m"
   ]
  },
  {
   "cell_type": "code",
   "execution_count": 4,
   "metadata": {},
   "outputs": [],
   "source": [
    "def dict_word(path) :\n",
    "    document=Document(path) \n",
    "    m={}\n",
    "    count=0\n",
    "    for p in document.paragraphs :\n",
    "        count=count+1\n",
    "        l=[l for l in p.text.split() if l.lower() not in sw_nltk]\n",
    "        for i1 in l :\n",
    "            if i1 not in sw_nltk :\n",
    "                i1=i1.lower()\n",
    "                if m.get(i1)==None :\n",
    "                    m[i1]=[]\n",
    "                    m[i1].append(count)\n",
    "                else :\n",
    "                    m[i1].append(count)\n",
    "    return m"
   ]
  },
  {
   "cell_type": "code",
   "execution_count": 5,
   "metadata": {},
   "outputs": [],
   "source": [
    "def dict_txt(path):\n",
    "    l=[]\n",
    "    m={}\n",
    "    with open(path) as f :\n",
    "        lines=f.readlines()\n",
    "    count=0\n",
    "    for line in lines :\n",
    "        count+=1;\n",
    "        l=line.split()\n",
    "        for i in l :\n",
    "            i=i.lower()\n",
    "            if i not in sw_nltk :\n",
    "                if m.get(i)==None :\n",
    "                    m[i]=[]\n",
    "                    m[i].append(count)\n",
    "                else :\n",
    "                    m[i].append(count)\n",
    "    return m"
   ]
  },
  {
   "cell_type": "code",
   "execution_count": null,
   "metadata": {},
   "outputs": [],
   "source": []
  }
 ],
 "metadata": {
  "kernelspec": {
   "display_name": "Python 3",
   "language": "python",
   "name": "python3"
  },
  "language_info": {
   "codemirror_mode": {
    "name": "ipython",
    "version": 3
   },
   "file_extension": ".py",
   "mimetype": "text/x-python",
   "name": "python",
   "nbconvert_exporter": "python",
   "pygments_lexer": "ipython3",
   "version": "3.7.6"
  }
 },
 "nbformat": 4,
 "nbformat_minor": 4
}
