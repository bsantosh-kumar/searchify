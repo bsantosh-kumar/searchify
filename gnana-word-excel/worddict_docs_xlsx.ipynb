{
 "cells": [
  {
   "cell_type": "code",
   "execution_count": 1,
   "metadata": {},
   "outputs": [],
   "source": [
    "from docx import Document\n",
    "import nltk\n",
    "import re\n",
    "import openpyxl\n",
    "from nltk.corpus import stopwords"
   ]
  },
  {
   "cell_type": "code",
   "execution_count": 2,
   "metadata": {},
   "outputs": [
    {
     "name": "stdout",
     "output_type": "stream",
     "text": [
      "['i', 'me', 'my', 'myself', 'we', 'our', 'ours', 'ourselves', 'you', \"you're\", \"you've\", \"you'll\", \"you'd\", 'your', 'yours', 'yourself', 'yourselves', 'he', 'him', 'his', 'himself', 'she', \"she's\", 'her', 'hers', 'herself', 'it', \"it's\", 'its', 'itself', 'they', 'them', 'their', 'theirs', 'themselves', 'what', 'which', 'who', 'whom', 'this', 'that', \"that'll\", 'these', 'those', 'am', 'is', 'are', 'was', 'were', 'be', 'been', 'being', 'have', 'has', 'had', 'having', 'do', 'does', 'did', 'doing', 'a', 'an', 'the', 'and', 'but', 'if', 'or', 'because', 'as', 'until', 'while', 'of', 'at', 'by', 'for', 'with', 'about', 'against', 'between', 'into', 'through', 'during', 'before', 'after', 'above', 'below', 'to', 'from', 'up', 'down', 'in', 'out', 'on', 'off', 'over', 'under', 'again', 'further', 'then', 'once', 'here', 'there', 'when', 'where', 'why', 'how', 'all', 'any', 'both', 'each', 'few', 'more', 'most', 'other', 'some', 'such', 'no', 'nor', 'not', 'only', 'own', 'same', 'so', 'than', 'too', 'very', 's', 't', 'can', 'will', 'just', 'don', \"don't\", 'should', \"should've\", 'now', 'd', 'll', 'm', 'o', 're', 've', 'y', 'ain', 'aren', \"aren't\", 'couldn', \"couldn't\", 'didn', \"didn't\", 'doesn', \"doesn't\", 'hadn', \"hadn't\", 'hasn', \"hasn't\", 'haven', \"haven't\", 'isn', \"isn't\", 'ma', 'mightn', \"mightn't\", 'mustn', \"mustn't\", 'needn', \"needn't\", 'shan', \"shan't\", 'shouldn', \"shouldn't\", 'wasn', \"wasn't\", 'weren', \"weren't\", 'won', \"won't\", 'wouldn', \"wouldn't\"]\n"
     ]
    }
   ],
   "source": [
    "sw_nltk = stopwords.words('english')\n",
    "print(sw_nltk)"
   ]
  },
  {
   "cell_type": "code",
   "execution_count": 3,
   "metadata": {},
   "outputs": [],
   "source": [
    "def dict_xlsx(path) :\n",
    "    wb_obj=openpyxl.load_workbook(path)\n",
    "    sheet_obj=wb_obj.active\n",
    "    m={}\n",
    "    for i in range(1,sheet_obj.max_row) :\n",
    "        for j in range(1,sheet_obj.max_column) :\n",
    "            cell_obj=sheet_obj.cell(row=i,column=j)\n",
    "            if m.get(cell_obj.value)==None :\n",
    "                m[cell_obj.value]=[]\n",
    "                m[cell_obj.value].append([i,j])\n",
    "            else :\n",
    "                m[cell_obj.value].append([i,j])\n",
    "    return m"
   ]
  },
  {
   "cell_type": "code",
   "execution_count": 4,
   "metadata": {},
   "outputs": [
    {
     "ename": "FileNotFoundError",
     "evalue": "[Errno 2] No such file or directory: 'intro.xlsx'",
     "output_type": "error",
     "traceback": [
      "\u001b[1;31m---------------------------------------------------------------------------\u001b[0m",
      "\u001b[1;31mFileNotFoundError\u001b[0m                         Traceback (most recent call last)",
      "\u001b[1;32m<ipython-input-4-ec16f50ec5ac>\u001b[0m in \u001b[0;36m<module>\u001b[1;34m\u001b[0m\n\u001b[1;32m----> 1\u001b[1;33m \u001b[0mprint\u001b[0m\u001b[1;33m(\u001b[0m\u001b[0mdict_xlsx\u001b[0m\u001b[1;33m(\u001b[0m\u001b[1;34m\"intro.xlsx\"\u001b[0m\u001b[1;33m)\u001b[0m\u001b[1;33m)\u001b[0m\u001b[1;33m\u001b[0m\u001b[1;33m\u001b[0m\u001b[0m\n\u001b[0m",
      "\u001b[1;32m<ipython-input-3-c90662665f2d>\u001b[0m in \u001b[0;36mdict_xlsx\u001b[1;34m(path)\u001b[0m\n\u001b[0;32m      1\u001b[0m \u001b[1;32mdef\u001b[0m \u001b[0mdict_xlsx\u001b[0m\u001b[1;33m(\u001b[0m\u001b[0mpath\u001b[0m\u001b[1;33m)\u001b[0m \u001b[1;33m:\u001b[0m\u001b[1;33m\u001b[0m\u001b[1;33m\u001b[0m\u001b[0m\n\u001b[1;32m----> 2\u001b[1;33m     \u001b[0mwb_obj\u001b[0m\u001b[1;33m=\u001b[0m\u001b[0mopenpyxl\u001b[0m\u001b[1;33m.\u001b[0m\u001b[0mload_workbook\u001b[0m\u001b[1;33m(\u001b[0m\u001b[0mpath\u001b[0m\u001b[1;33m)\u001b[0m\u001b[1;33m\u001b[0m\u001b[1;33m\u001b[0m\u001b[0m\n\u001b[0m\u001b[0;32m      3\u001b[0m     \u001b[0msheet_obj\u001b[0m\u001b[1;33m=\u001b[0m\u001b[0mwb_obj\u001b[0m\u001b[1;33m.\u001b[0m\u001b[0mactive\u001b[0m\u001b[1;33m\u001b[0m\u001b[1;33m\u001b[0m\u001b[0m\n\u001b[0;32m      4\u001b[0m     \u001b[0mm\u001b[0m\u001b[1;33m=\u001b[0m\u001b[1;33m{\u001b[0m\u001b[1;33m}\u001b[0m\u001b[1;33m\u001b[0m\u001b[1;33m\u001b[0m\u001b[0m\n\u001b[0;32m      5\u001b[0m     \u001b[1;32mfor\u001b[0m \u001b[0mi\u001b[0m \u001b[1;32min\u001b[0m \u001b[0mrange\u001b[0m\u001b[1;33m(\u001b[0m\u001b[1;36m1\u001b[0m\u001b[1;33m,\u001b[0m\u001b[0msheet_obj\u001b[0m\u001b[1;33m.\u001b[0m\u001b[0mmax_row\u001b[0m\u001b[1;33m)\u001b[0m \u001b[1;33m:\u001b[0m\u001b[1;33m\u001b[0m\u001b[1;33m\u001b[0m\u001b[0m\n",
      "\u001b[1;32mC:\\ProgramData\\Anaconda3\\lib\\site-packages\\openpyxl\\reader\\excel.py\u001b[0m in \u001b[0;36mload_workbook\u001b[1;34m(filename, read_only, keep_vba, data_only, keep_links)\u001b[0m\n\u001b[0;32m    311\u001b[0m     \"\"\"\n\u001b[0;32m    312\u001b[0m     reader = ExcelReader(filename, read_only, keep_vba,\n\u001b[1;32m--> 313\u001b[1;33m                         data_only, keep_links)\n\u001b[0m\u001b[0;32m    314\u001b[0m     \u001b[0mreader\u001b[0m\u001b[1;33m.\u001b[0m\u001b[0mread\u001b[0m\u001b[1;33m(\u001b[0m\u001b[1;33m)\u001b[0m\u001b[1;33m\u001b[0m\u001b[1;33m\u001b[0m\u001b[0m\n\u001b[0;32m    315\u001b[0m     \u001b[1;32mreturn\u001b[0m \u001b[0mreader\u001b[0m\u001b[1;33m.\u001b[0m\u001b[0mwb\u001b[0m\u001b[1;33m\u001b[0m\u001b[1;33m\u001b[0m\u001b[0m\n",
      "\u001b[1;32mC:\\ProgramData\\Anaconda3\\lib\\site-packages\\openpyxl\\reader\\excel.py\u001b[0m in \u001b[0;36m__init__\u001b[1;34m(self, fn, read_only, keep_vba, data_only, keep_links)\u001b[0m\n\u001b[0;32m    122\u001b[0m     def __init__(self,  fn, read_only=False, keep_vba=KEEP_VBA,\n\u001b[0;32m    123\u001b[0m                   data_only=False, keep_links=True):\n\u001b[1;32m--> 124\u001b[1;33m         \u001b[0mself\u001b[0m\u001b[1;33m.\u001b[0m\u001b[0marchive\u001b[0m \u001b[1;33m=\u001b[0m \u001b[0m_validate_archive\u001b[0m\u001b[1;33m(\u001b[0m\u001b[0mfn\u001b[0m\u001b[1;33m)\u001b[0m\u001b[1;33m\u001b[0m\u001b[1;33m\u001b[0m\u001b[0m\n\u001b[0m\u001b[0;32m    125\u001b[0m         \u001b[0mself\u001b[0m\u001b[1;33m.\u001b[0m\u001b[0mvalid_files\u001b[0m \u001b[1;33m=\u001b[0m \u001b[0mself\u001b[0m\u001b[1;33m.\u001b[0m\u001b[0marchive\u001b[0m\u001b[1;33m.\u001b[0m\u001b[0mnamelist\u001b[0m\u001b[1;33m(\u001b[0m\u001b[1;33m)\u001b[0m\u001b[1;33m\u001b[0m\u001b[1;33m\u001b[0m\u001b[0m\n\u001b[0;32m    126\u001b[0m         \u001b[0mself\u001b[0m\u001b[1;33m.\u001b[0m\u001b[0mread_only\u001b[0m \u001b[1;33m=\u001b[0m \u001b[0mread_only\u001b[0m\u001b[1;33m\u001b[0m\u001b[1;33m\u001b[0m\u001b[0m\n",
      "\u001b[1;32mC:\\ProgramData\\Anaconda3\\lib\\site-packages\\openpyxl\\reader\\excel.py\u001b[0m in \u001b[0;36m_validate_archive\u001b[1;34m(filename)\u001b[0m\n\u001b[0;32m     94\u001b[0m             \u001b[1;32mraise\u001b[0m \u001b[0mInvalidFileException\u001b[0m\u001b[1;33m(\u001b[0m\u001b[0mmsg\u001b[0m\u001b[1;33m)\u001b[0m\u001b[1;33m\u001b[0m\u001b[1;33m\u001b[0m\u001b[0m\n\u001b[0;32m     95\u001b[0m \u001b[1;33m\u001b[0m\u001b[0m\n\u001b[1;32m---> 96\u001b[1;33m     \u001b[0marchive\u001b[0m \u001b[1;33m=\u001b[0m \u001b[0mZipFile\u001b[0m\u001b[1;33m(\u001b[0m\u001b[0mfilename\u001b[0m\u001b[1;33m,\u001b[0m \u001b[1;34m'r'\u001b[0m\u001b[1;33m)\u001b[0m\u001b[1;33m\u001b[0m\u001b[1;33m\u001b[0m\u001b[0m\n\u001b[0m\u001b[0;32m     97\u001b[0m     \u001b[1;32mreturn\u001b[0m \u001b[0marchive\u001b[0m\u001b[1;33m\u001b[0m\u001b[1;33m\u001b[0m\u001b[0m\n\u001b[0;32m     98\u001b[0m \u001b[1;33m\u001b[0m\u001b[0m\n",
      "\u001b[1;32mC:\\ProgramData\\Anaconda3\\lib\\zipfile.py\u001b[0m in \u001b[0;36m__init__\u001b[1;34m(self, file, mode, compression, allowZip64, compresslevel)\u001b[0m\n\u001b[0;32m   1238\u001b[0m             \u001b[1;32mwhile\u001b[0m \u001b[1;32mTrue\u001b[0m\u001b[1;33m:\u001b[0m\u001b[1;33m\u001b[0m\u001b[1;33m\u001b[0m\u001b[0m\n\u001b[0;32m   1239\u001b[0m                 \u001b[1;32mtry\u001b[0m\u001b[1;33m:\u001b[0m\u001b[1;33m\u001b[0m\u001b[1;33m\u001b[0m\u001b[0m\n\u001b[1;32m-> 1240\u001b[1;33m                     \u001b[0mself\u001b[0m\u001b[1;33m.\u001b[0m\u001b[0mfp\u001b[0m \u001b[1;33m=\u001b[0m \u001b[0mio\u001b[0m\u001b[1;33m.\u001b[0m\u001b[0mopen\u001b[0m\u001b[1;33m(\u001b[0m\u001b[0mfile\u001b[0m\u001b[1;33m,\u001b[0m \u001b[0mfilemode\u001b[0m\u001b[1;33m)\u001b[0m\u001b[1;33m\u001b[0m\u001b[1;33m\u001b[0m\u001b[0m\n\u001b[0m\u001b[0;32m   1241\u001b[0m                 \u001b[1;32mexcept\u001b[0m \u001b[0mOSError\u001b[0m\u001b[1;33m:\u001b[0m\u001b[1;33m\u001b[0m\u001b[1;33m\u001b[0m\u001b[0m\n\u001b[0;32m   1242\u001b[0m                     \u001b[1;32mif\u001b[0m \u001b[0mfilemode\u001b[0m \u001b[1;32min\u001b[0m \u001b[0mmodeDict\u001b[0m\u001b[1;33m:\u001b[0m\u001b[1;33m\u001b[0m\u001b[1;33m\u001b[0m\u001b[0m\n",
      "\u001b[1;31mFileNotFoundError\u001b[0m: [Errno 2] No such file or directory: 'intro.xlsx'"
     ]
    }
   ],
   "source": [
    "print(dict_xlsx(\"intro.xlsx\"))"
   ]
  },
  {
   "cell_type": "code",
   "execution_count": null,
   "metadata": {},
   "outputs": [],
   "source": [
    "def dict_word(path) :\n",
    "    document=Document(path) \n",
    "    m={}\n",
    "    for p in document.paragraphs :\n",
    "        l=[l for l in p.text.split() if l.lower() not in sw_nltk]\n",
    "        for i1 in l :\n",
    "            if i1 not in sw_nltk :\n",
    "                if m.get(i1)==None :\n",
    "                    m[i1] =1\n",
    "                else :\n",
    "                    m[i1]=m[i1]+1\n",
    "    return m"
   ]
  },
  {
   "cell_type": "code",
   "execution_count": null,
   "metadata": {},
   "outputs": [
    {
     "name": "stdout",
     "output_type": "stream",
     "text": [
      "{'Introducing': 1, 'someone': 1, 'professional': 2, 'setting': 1, 'tricky,': 1, 'especially': 1, 'facing': 1, 'interview.': 3, 'Irrespective': 1, 'qualifications': 1, 'experience,': 2, 'way': 2, 'self-introduction': 7, 'interview': 14, 'carries': 1, 'much': 1, 'weight': 1, 'comes': 1, 'making': 1, 'strong': 2, 'impression.': 1, 'soon': 1, 'enter': 2, 'room,': 1, 'exchange': 1, 'pleasantries': 1, 'introduce': 2, 'saying': 1, 'name.': 1, 'Keep': 3, 'introduction': 2, 'short': 2, 'concise': 1, 'go': 3, 'detail': 1, 'starts.': 1, 'Tips': 1, 'Use': 2, 'tricks': 1, 'various': 1, 'stages': 2, 'selection': 1, 'process:': 1, 'reception': 2, 'open': 1, 'interview,': 4, 'likely': 1, 'receive': 2, 'invite': 1, 'along': 1, 'shortlisted': 1, 'candidates.': 1, 'So,': 4, 'present': 1, 'big': 1, 'day,': 1, 'waiting': 1, 'area.': 1, 'Walk': 1, 'help': 4, 'desk': 1, 'confidently': 1, 'speak': 1, 'front': 1, 'office': 2, 'executive.': 1, 'State': 1, 'name': 4, 'purpose': 2, 'visit.': 1, 'instance,': 3, '“Good': 1, 'morning,': 1, 'Latha': 1, 'Deshmukh.': 1, 'scheduled': 1, '11:00': 1, 'a.m.': 1, 'senior': 1, 'graphic': 1, 'designer': 1, 'position.”': 1, 'often': 2, 'not,': 1, 'HR': 1, 'personnel': 1, 'may': 10, 'consider': 1, \"staff's\": 1, 'opinion': 1, 'departments,': 1, 'like': 8, 'coordinator.': 1, 'must': 1, 'maintain': 2, 'pleasant': 1, 'expression': 1, 'right': 2, 'time': 3, 'premises.': 1, 'checking': 1, 'stage': 1, 'pre-assessing': 1, 'potential': 1, 'candidate': 2, 'begins.': 1, 'Someone': 1, 'recruiting': 1, 'team': 2, 'meet': 2, 'lobby': 1, 'ask': 3, 'wait': 1, 'turn.': 1, 'courteous': 1, 'greet': 1, 'warmly.': 1, 'Make': 1, 'sure': 2, 'repeat': 1, 'better': 2, 'remember': 1, 'information': 4, 'take': 2, 'in.': 1, 'spoken': 1, 'phone': 1, 'say': 1, 'nice': 1, 'personally.': 1, 'Based': 1, 'situation': 1, 'available': 1, 'time,': 1, 'person': 3, 'questions.': 1, 'duration': 1, 'relax': 1, 'notes': 2, 'previously': 1, 'prepared.': 1, 'coming': 1, 'researching': 1, 'company': 3, 'objectives': 1, 'values': 2, 'prepare': 1, 'answers.': 1, 'Employers': 1, 'candidates': 1, 'make': 3, 'effort': 1, 'learn': 1, 'services,': 1, 'products,': 1, 'verticals': 1, 'mission.': 1, 'relate': 1, 'responses': 1, 'company.': 3, 'actual': 2, 'Greet': 1, 'interviewer': 3, 'formally': 1, 'confident': 2, 'speaking.': 1, 'attending': 1, 'in-person': 1, 'means': 1, 'made': 1, 'shortlisting': 1, 'telephone': 1, 'rounds.': 1, 'Hence,': 1, 'recruiter': 2, 'seen': 1, 'resume,': 2, \"they'd\": 1, 'still': 1, 'expect': 1, 'describe': 1, 'share': 2, 'bit': 1, 'accomplishments.': 1, 'hiring': 2, 'managers': 1, 'want': 2, 'know': 3, 'lead': 1, 'needed.': 1, 'jump': 1, 'directly': 1, 'asking': 1, 'degree': 1, 'work': 2, 'experience.': 1, 'elevator': 1, 'pitch': 1, 'ready': 2, 'covers': 1, 'primary': 1, 'aspects': 1, 'career': 4, 'academic': 2, 'qualifications.': 1, 'well-prepared': 1, 'capture': 1, 'attention': 1, 'manager.': 1, 'pave': 1, 'questions': 3, 'background,': 1, 'hobbies': 2, 'passions.': 1, 'cover': 1, 'Let': 1, 'us': 1, 'break': 1, 'section': 2, 'following': 1, 'parts:': 1, 'details': 2, 'Introduce': 1, 'full': 1, 'appears': 1, 'certificates.': 1, 'background': 1, 'born': 2, 'raised.': 1, 'say,': 1, '“I': 1, 'Himadhar': 1, 'Mahajan,': 1, 'come': 1, 'Mumbai.': 1, 'Bangalore': 1, 'went': 2, 'schools': 1, 'across': 1, 'country': 1, 'dad': 1, 'army.': 1, 'also': 2, 'reason': 2, 'fluent': 1, 'four': 2, 'languages.': 1, 'recently': 1, 'moved': 1, 'Pune': 2, '3-month': 1, 'internship': 2, 'fell': 1, 'love': 2, 'city.”': 1, 'remember?': 6, 'three': 1, 'sentences': 2, 'answer': 1, 'in-depth': 1, 'going': 2, 'Qualifications': 1, 'Although': 1, 'appear': 1, 'interviewers': 1, 'walk': 1, 'it.': 1, 'without': 2, 'stretching': 1, 'much,': 1, 'mention': 1, 'main': 1, 'aspects,': 1, 'college': 1, 'final': 2, 'results.': 2, 'Besides,': 1, 'something': 1, 'impressive,': 1, '98%': 1, 'percentile': 1, 'Mathematics,': 1, 'bring': 1, 'notice.': 1, 'job': 5, 'duties': 1, 'align': 1, 'post-degree': 1, 'certifications': 1, 'different': 2, 'major,': 1, 'explain.': 1, 'Expect': 1, 'question': 1, 'framed': 1, '“why': 2, 'hire': 1, 'you?”': 1, 'think': 2, 'choice': 1, 'job?”': 1, 'Work': 1, 'experience': 1, 'Perhaps': 1, 'already': 1, 'listed': 1, 'every': 1, 'ever': 1, 'resume.': 1, 'Instead': 1, 'sharing': 1, 'things': 1, 'verbally,': 1, 'succinct': 1, 'talk': 3, 'graph.': 1, 'include': 1, 'significant': 1, 'positions': 1, 'held': 1, 'long': 2, 'time.': 1, 'Give': 1, 'instances': 1, 'handled': 1, 'challenging': 1, 'situations': 1, 'dealt': 1, 'tight': 1, 'deadlines.': 1, 'good': 2, 'opportunity': 1, 'give': 3, 'relevant': 1, 'future': 1, 'responsibilities.': 1, 'example,': 1, 'cite': 1, 'weather': 1, 'backup': 1, 'plan': 1, 'came': 1, 'handy': 1, 'assistant': 1, 'event': 1, 'planner.': 1, 'Appear': 1, 'let': 1, 'understand': 1, 'role': 2, 'inside': 1, 'out.': 1, 'Prepare': 1, 'answers': 1, 'top': 1, 'next.': 1, 'Outside': 1, 'interests': 1, 'whole': 1, 'assess': 1, 'whether': 1, 'suitable': 1, 'role.': 2, 'However,': 2, 'posing': 1, 'always': 1, 'stick': 1, 'technical': 1, 'aspects.': 1, 'spend': 2, 'working.': 1, 'Sometimes,': 1, 'quite': 1, 'tough,': 1, 'healthy': 1, 'outlets': 1, 'remove': 1, 'stress.': 1, 'taking': 1, 'gardening,': 1, 'cooking': 1, 'shows': 2, 'patience.': 1, 'sports': 1, 'practice': 1, 'list': 1, 'adventurous': 1, 'activities': 1, 'surfing': 1, 'interests,': 1, 'indicates': 1, 'competitive': 1, 'spirit': 1, 'risk-taking': 1, 'nature.': 1, 'hobby': 1, 'interest,': 1, 'avoid': 1, 'complicated': 1, 'issues,': 1, 'political': 1, 'religious': 1, 'affiliations.': 1, 'parents,': 1, 'siblings': 1, 'helped': 1, 'today.': 1, 'One': 1, 'glimpse': 1, 'well-rounded': 1, 'life': 2, 'value': 1, 'personal': 1, 'well': 1, 'life.': 1, 'Say,': 1, 'visit': 2, 'grandparents': 1, 'volunteer': 1, 'local': 2, 'animal': 1, 'rescue': 1, 'shelter.': 1, 'compassionate.': 1, 'simple': 1, 'genuine.': 1, 'key': 1, 'eye': 1, 'contact': 1, 'statements.': 1, 'Future': 1, 'plans': 2, 'beginning': 1, 'years': 2, 'important': 2, 'reassure': 1, 'looking': 1, 'long-term.': 1, 'Talk': 1, 'ambitions': 1, 'goals': 1, 'wish': 1, 'achieve': 1, 'next': 1, 'five': 1, 'years.': 1, 'Here,': 1, 'drives': 1, 'get': 3, 'needed': 1, 'motivation.': 1, 'Frame': 1, 'put': 1, 'together': 1, 'particular': 1, 'last?': 1, 'proven': 1, 'limit': 1, 'gets': 1, 'optimal': 1, 'approach': 1, 'expression.': 1, 'since': 2, 'introduction,': 1, 'need': 1, 'keep': 1, 'short.': 1, 'question,': 1, 'necessary': 1, 'missing': 1, 'anything.': 1, 'average,': 1, 'last': 1, '30': 1, 'seconds': 1, 'minute.': 1, 'duration,': 1, 'whoever': 1, 'side': 1, 'table': 1, 'distracted.': 1, 'Practice': 1, 'segment': 1, 'in,': 1, 'try': 1, 'sound': 1, 'over-rehearsed.': 1, 'importantly,': 1, 'use': 1, 'brief': 1, 'statement': 1, 'segue': 1, 'Examples': 1, 'introducing': 1, 'Look': 1, 'samples': 1, 'idea:': 1, 'Example': 2, '1:': 1, 'Fresher': 1, '“Hi,': 2, 'Rishi': 1, 'Varma,': 1, 'B.': 2, 'Com': 1, 'graduate': 1, 'Dehradun.': 1, 'living': 1, 'graduated': 1, 'St.': 1, 'Charles': 1, 'Degree': 1, 'College,': 1, 'Dehradun,': 1, '2020.': 1, 'father': 1, 'teaches': 1, 'Hindi': 1, 'government': 1, 'school,': 1, 'mother': 1, 'works': 1, 'private': 1, 'bank.': 1, 'younger': 1, 'brother': 1, 'studying': 1, '10th': 1, 'standard': 1, 'lives': 1, 'parents': 2, 'back': 1, 'home.': 1, 'past': 1, 'months,': 1, 'enrolled': 1, 'business': 1, 'accounting': 1, 'taxation': 1, 'courses': 1, 'learnt': 1, 'software': 1, 'Tally': 1, 'QuickBooks.': 1, 'believe': 2, 'gained': 1, 'real-world': 1, 'skills': 2, '6-month': 1, 'XYZ': 1, 'studies,': 1, 'tennis': 1, 'chess,': 1, 'active': 1, 'member': 1, 'drama': 1, 'club.”': 1, '2:': 1, 'Experienced': 1, 'Manoj': 1, 'Dutta.': 1, 'completed': 1, 'Tech': 1, 'Computer': 1, 'Science': 1, '2003': 1, 'JNTU,': 1, 'Hyderabad.': 1, 'worked': 1, 'ABC': 1, 'ten': 1, 'getting': 1, 'placed': 1, 'year': 1, 'college.': 1, 'leader': 1, 'project': 1, 'manager,': 1, 'well-versed': 1, 'application': 1, 'development': 1, 'cycle.': 1, 'currently': 1, 'oversee': 1, 'two': 1, 'teams': 1, 'new': 1, 'organisation': 1, 'joined': 1, '2015.': 1, 'valuable': 1, 'point': 1, 'weekends': 1, 'family': 1, 'live': 1, 'block.': 1, 'Fitness': 1, 'me,': 1, 'working': 1, 'gym': 1, 'cultivate': 1, 'camaraderie': 1, 'colleagues.”': 1}\n"
     ]
    }
   ],
   "source": [
    "print(dict_word(\"introduction.docx\"))"
   ]
  },
  {
   "cell_type": "code",
   "execution_count": null,
   "metadata": {},
   "outputs": [],
   "source": []
  }
 ],
 "metadata": {
  "kernelspec": {
   "display_name": "Python 3",
   "language": "python",
   "name": "python3"
  },
  "language_info": {
   "codemirror_mode": {
    "name": "ipython",
    "version": 3
   },
   "file_extension": ".py",
   "mimetype": "text/x-python",
   "name": "python",
   "nbconvert_exporter": "python",
   "pygments_lexer": "ipython3",
   "version": "3.7.6"
  }
 },
 "nbformat": 4,
 "nbformat_minor": 4
}
