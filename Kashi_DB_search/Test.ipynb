{
  "nbformat": 4,
  "nbformat_minor": 0,
  "metadata": {
    "colab": {
      "name": "Test.ipynb",
      "provenance": []
    },
    "kernelspec": {
      "name": "python3",
      "display_name": "Python 3"
    },
    "language_info": {
      "name": "python"
    }
  },
  "cells": [
    {
      "cell_type": "code",
      "execution_count": 115,
      "metadata": {
        "id": "d_GDGysZARWK"
      },
      "outputs": [],
      "source": [
        "import sqlite3\n",
        "\n",
        "import multiprocessing "
      ]
    },
    {
      "cell_type": "code",
      "source": [
        "def search (table, keyword, table_name):\n",
        "\n",
        "  print (table)\n",
        "\n",
        "  for i in table:\n",
        "      if i == keyword:\n",
        "        print (keyword, ' matched in table ', table_name)\n"
      ],
      "metadata": {
        "id": "NswHx3IYDovJ"
      },
      "execution_count": 116,
      "outputs": []
    },
    {
      "cell_type": "code",
      "source": [
        "def search_query (table_name, sql_query, keywords):\n",
        "\n",
        "  pool = multiprocessing.Pool ()\n",
        "\n",
        "  try:\n",
        "\n",
        "    cursor.execute(sql_query)\n",
        "  \n",
        "  except:\n",
        "    print ('INVALID QUERY')\n",
        "\n",
        "  table = cursor.fetchall()\n",
        "\n",
        "  for i in keywords:\n",
        "\n",
        "    [pool.apply_async (search, args = (k, i, table_name)) for k in table]"
      ],
      "metadata": {
        "id": "yjFJjtJ--L22"
      },
      "execution_count": 122,
      "outputs": []
    },
    {
      "cell_type": "code",
      "source": [
        "DB = 'SQLite_Retrieving_data.db'"
      ],
      "metadata": {
        "id": "WIG-gkEiKyrf"
      },
      "execution_count": 118,
      "outputs": []
    },
    {
      "cell_type": "code",
      "source": [
        "sqliteConnection = sqlite3.connect('{DB}'.format (DB=DB))\n",
        "      \n",
        "print(\"Connected to SQLite\")\n",
        "\n",
        "cursor = sqliteConnection.cursor()\n",
        "\n",
        "cursor.execute(\"DROP TABLE IF EXISTS GEEK\")\n",
        "\n",
        "cursor.execute(\"DROP TABLE IF EXISTS GEEKY\")\n",
        " \n",
        "table = \"\"\" CREATE TABLE GEEK (\n",
        "            Email VARCHAR(255) NOT NULL,\n",
        "            First_Name CHAR(25) NOT NULL,\n",
        "            Last_Name CHAR(25),\n",
        "            Score INT\n",
        "        ); \"\"\"\n",
        " \n",
        "cursor.execute(table)\n",
        "\n",
        "table1 = \"\"\" CREATE TABLE GEEKY (\n",
        "            Email VARCHAR(255) NOT NULL,\n",
        "            First_Name CHAR(25) NOT NULL,\n",
        "            Last_Name CHAR(25)\n",
        "        ); \"\"\"\n",
        " \n",
        "cursor.execute(table1)\n",
        " \n",
        "print(\"Table is Ready\")"
      ],
      "metadata": {
        "colab": {
          "base_uri": "https://localhost:8080/"
        },
        "id": "Zo4GgsWuIgOh",
        "outputId": "e1da951f-134d-4c38-e382-718b001acdca"
      },
      "execution_count": 105,
      "outputs": [
        {
          "output_type": "stream",
          "name": "stdout",
          "text": [
            "Connected to SQLite\n",
            "Table is Ready\n"
          ]
        }
      ]
    },
    {
      "cell_type": "code",
      "source": [
        "cursor.execute (\"INSERT INTO GEEK VALUES ('random1@gmail.com', 'Santosh', 'Taaper', 1000)\")\n",
        "cursor.execute (\"INSERT INTO GEEK VALUES ('random2@gmail.com', 'Vishwas', 'Taaper', 1000)\")\n",
        "\n",
        "cursor.execute (\"INSERT INTO GEEKY VALUES ('random2@gmail.com', 'Gnana', 'Taaper')\")\n",
        "cursor.execute (\"INSERT INTO GEEKY VALUES ('random2@gmail.com', 'Vishwas', 'Taaper')\")"
      ],
      "metadata": {
        "colab": {
          "base_uri": "https://localhost:8080/"
        },
        "id": "nU7MfajKL-Es",
        "outputId": "b1aceaad-5812-4b81-e84e-d76d2716aaa8"
      },
      "execution_count": 106,
      "outputs": [
        {
          "output_type": "execute_result",
          "data": {
            "text/plain": [
              "<sqlite3.Cursor at 0x7fd91a695c70>"
            ]
          },
          "metadata": {},
          "execution_count": 106
        }
      ]
    },
    {
      "cell_type": "code",
      "source": [
        "sql_query = \"\"\"SELECT name FROM sqlite_master \n",
        "WHERE type='table';\"\"\"\n",
        "  \n",
        "cursor.execute(sql_query)\n",
        "print(\"List of tables\\n\")\n",
        "      \n",
        "table_names = cursor.fetchall()\n",
        "\n",
        "print (table_names)"
      ],
      "metadata": {
        "colab": {
          "base_uri": "https://localhost:8080/"
        },
        "id": "kXv6lp0qKf9k",
        "outputId": "15802bc7-6df6-4de1-a2ea-3265d791f18b"
      },
      "execution_count": 107,
      "outputs": [
        {
          "output_type": "stream",
          "name": "stdout",
          "text": [
            "List of tables\n",
            "\n",
            "[('GEEK',), ('GEEKY',)]\n"
          ]
        }
      ]
    },
    {
      "cell_type": "code",
      "source": [
        "for i in table_names:\n",
        "\n",
        "  for j in i:\n",
        "\n",
        "    sql_query = \"SELECT * FROM \" + j\n",
        "\n",
        "    print ('Called ', j)\n",
        "\n",
        "    search_query (j, sql_query, ['Santosh', 'Vishwas'])\n",
        "\n",
        "    "
      ],
      "metadata": {
        "colab": {
          "base_uri": "https://localhost:8080/"
        },
        "id": "5O8gRQ8QInMr",
        "outputId": "867c72cb-a985-44cc-89fb-29bb8bb67bd0"
      },
      "execution_count": 119,
      "outputs": [
        {
          "output_type": "stream",
          "name": "stdout",
          "text": [
            "Called  GEEK\n",
            "Called  GEEKY\n",
            "('random1@gmail.com', 'Santosh', 'Taaper', 1000)\n",
            "Santosh  matched in table  GEEK\n",
            "('random2@gmail.com', 'Vishwas', 'Taaper', 1000)\n",
            "('random2@gmail.com', 'Gnana', 'Taaper')\n",
            "('random2@gmail.com', 'Vishwas', 'Taaper')\n",
            "('random2@gmail.com', 'Gnana', 'Taaper')\n",
            "('random1@gmail.com', 'Santosh', 'Taaper', 1000)\n",
            "('random2@gmail.com', 'Vishwas', 'Taaper', 1000)\n",
            "('random2@gmail.com', 'Vishwas', 'Taaper')\n",
            "Vishwas  matched in table  GEEK\n",
            "Vishwas  matched in table  GEEKY\n"
          ]
        }
      ]
    },
    {
      "cell_type": "markdown",
      "source": [
        ""
      ],
      "metadata": {
        "id": "yKXrYiWb9K04"
      }
    },
    {
      "cell_type": "code",
      "source": [
        "search_query ('GEEK', \"SELECT\", ['Vishwas'])"
      ],
      "metadata": {
        "colab": {
          "base_uri": "https://localhost:8080/"
        },
        "id": "AetfV9Z99MD2",
        "outputId": "f5d0cf39-e15e-41b4-ba1c-2413c4ae77a5"
      },
      "execution_count": 123,
      "outputs": [
        {
          "output_type": "stream",
          "name": "stdout",
          "text": [
            "Invalid QUERY\n"
          ]
        }
      ]
    },
    {
      "cell_type": "code",
      "source": [
        "if sqliteConnection:\n",
        "  sqliteConnection.close()\n",
        "          \n",
        "print(\"the sqlite connection is closed\")"
      ],
      "metadata": {
        "colab": {
          "base_uri": "https://localhost:8080/"
        },
        "id": "2Y1M-yEHIqYq",
        "outputId": "7735fa8c-13ee-4172-9257-541435da9594"
      },
      "execution_count": 124,
      "outputs": [
        {
          "output_type": "stream",
          "name": "stdout",
          "text": [
            "the sqlite connection is closed\n"
          ]
        }
      ]
    }
  ]
}