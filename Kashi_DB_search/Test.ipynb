{
  "cells": [
    {
      "cell_type": "code",
      "execution_count": 174,
      "metadata": {
        "id": "d_GDGysZARWK"
      },
      "outputs": [],
      "source": [
        "import sqlite3"
      ]
    },
    {
      "cell_type": "code",
      "execution_count": 175,
      "metadata": {
        "id": "NswHx3IYDovJ"
      },
      "outputs": [],
      "source": [
        "def search (table_name, table, keyword):\n",
        "\n",
        "  locs = []\n",
        "  for itr, i in enumerate(table):\n",
        "    for j in i:\n",
        "      if (str(j).lower()) == keyword.lower():\n",
        "        if (table_name):\n",
        "          print (keyword, 'matched in table', table_name, 'at row', itr + 1)\n",
        "          print (i)\n",
        "          locs.append ({\"row\":itr + 1, \"table_name\" : table_name})\n",
        "        else:\n",
        "          print (keyword, 'matched in the given query at row', itr + 1)\n",
        "          locs.append ({\"row\":itr + 1})\n",
        "          \n",
        "  return locs\n",
        "        \n"
      ]
    },
    {
      "cell_type": "code",
      "execution_count": 176,
      "metadata": {
        "id": "yjFJjtJ--L22"
      },
      "outputs": [],
      "source": [
        "def search_query (cursor, sql_query, keywords, table_name=None):\n",
        "  \n",
        "  dictionary = {}\n",
        "\n",
        "  try:\n",
        "\n",
        "    cursor.execute(sql_query)\n",
        "  \n",
        "  except:\n",
        "    print ('INVALID QUERY')\n",
        "\n",
        "  table = cursor.fetchall()\n",
        "\n",
        "  for i in keywords:\n",
        "\n",
        "    res = search (table_name, table, i)\n",
        "    \n",
        "    if len (res) != 0:\n",
        "      dictionary[i] = res\n",
        "    \n",
        "  return dictionary"
      ]
    },
    {
      "cell_type": "code",
      "execution_count": 177,
      "metadata": {
        "id": "WIG-gkEiKyrf"
      },
      "outputs": [],
      "source": [
        "DB = 'chinook.db'"
      ]
    },
    {
      "cell_type": "code",
      "execution_count": 178,
      "metadata": {
        "colab": {
          "base_uri": "https://localhost:8080/"
        },
        "id": "Zo4GgsWuIgOh",
        "outputId": "ecee297f-8825-49b9-83b8-b208366629da"
      },
      "outputs": [
        {
          "name": "stdout",
          "output_type": "stream",
          "text": [
            "Connected to SQLite\n",
            "Table is Ready\n"
          ]
        }
      ],
      "source": [
        "sqliteConnection = sqlite3.connect('{DB}'.format (DB=DB))\n",
        "      \n",
        "print(\"Connected to SQLite\")\n",
        "\n",
        "cursor = sqliteConnection.cursor()\n",
        " \n",
        "print(\"Table is Ready\")"
      ]
    },
    {
      "cell_type": "code",
      "execution_count": 179,
      "metadata": {
        "colab": {
          "base_uri": "https://localhost:8080/"
        },
        "id": "kXv6lp0qKf9k",
        "outputId": "2b68fff6-8ee4-4795-afd3-ac4bea50d85e"
      },
      "outputs": [
        {
          "name": "stdout",
          "output_type": "stream",
          "text": [
            "List of tables\n",
            "\n",
            "[('albums',), ('sqlite_sequence',), ('artists',), ('customers',), ('employees',), ('genres',), ('invoices',), ('invoice_items',), ('media_types',), ('playlists',), ('playlist_track',), ('tracks',), ('sqlite_stat1',)]\n"
          ]
        }
      ],
      "source": [
        "sql_query = \"\"\"SELECT name FROM sqlite_master \n",
        "WHERE type='table';\"\"\"\n",
        "  \n",
        "cursor.execute(sql_query)\n",
        "print(\"List of tables\\n\")\n",
        "      \n",
        "table_names = cursor.fetchall()\n",
        "\n",
        "print (table_names)"
      ]
    },
    {
      "cell_type": "code",
      "execution_count": 180,
      "metadata": {
        "colab": {
          "base_uri": "https://localhost:8080/"
        },
        "id": "5O8gRQ8QInMr",
        "outputId": "f2bb9fcb-9e48-4927-f873-e2afb775e925"
      },
      "outputs": [
        {
          "name": "stdout",
          "output_type": "stream",
          "text": [
            "Action matched in table tracks at row 835\n",
            "(835, 'Action', 67, 1, 1, None, 220604, 7130830, 0.99)\n",
            "{'Action': [{'row': 835, 'table_name': 'tracks'}]}\n"
          ]
        }
      ],
      "source": [
        "for i in table_names:\n",
        "\n",
        "  for j in i:\n",
        "\n",
        "    sql_query = \"SELECT * FROM \" + j\n",
        "\n",
        "    res = search_query (cursor, sql_query, ['Action', 'Brian Johnson'], j)\n",
        "    \n",
        "    if len (res) != 0:\n",
        "      print (res)\n",
        "\n",
        "    "
      ]
    },
    {
      "cell_type": "code",
      "execution_count": 181,
      "metadata": {
        "colab": {
          "base_uri": "https://localhost:8080/"
        },
        "id": "AetfV9Z99MD2",
        "outputId": "8d587b05-48a5-4e38-f620-c27d64a259d6"
      },
      "outputs": [],
      "source": [
        "res = search_query (cursor, \"SELECT * FROM Tracks LIMIT  10\", ['Vishwas'])"
      ]
    },
    {
      "cell_type": "code",
      "execution_count": 182,
      "metadata": {
        "colab": {
          "base_uri": "https://localhost:8080/"
        },
        "id": "2Y1M-yEHIqYq",
        "outputId": "f4b53877-f9af-4304-9044-257f11c22389"
      },
      "outputs": [
        {
          "name": "stdout",
          "output_type": "stream",
          "text": [
            "the sqlite connection is closed\n"
          ]
        }
      ],
      "source": [
        "if sqliteConnection:\n",
        "  sqliteConnection.close()\n",
        "          \n",
        "print(\"the sqlite connection is closed\")"
      ]
    }
  ],
  "metadata": {
    "colab": {
      "name": "Test.ipynb",
      "provenance": []
    },
    "kernelspec": {
      "display_name": "Python 3",
      "name": "python3"
    },
    "language_info": {
      "codemirror_mode": {
        "name": "ipython",
        "version": 3
      },
      "file_extension": ".py",
      "mimetype": "text/x-python",
      "name": "python",
      "nbconvert_exporter": "python",
      "pygments_lexer": "ipython3",
      "version": "3.10.0"
    }
  },
  "nbformat": 4,
  "nbformat_minor": 0
}
